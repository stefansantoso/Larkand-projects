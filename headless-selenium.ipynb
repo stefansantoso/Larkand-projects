{
 "cells": [
  {
   "cell_type": "code",
   "execution_count": 1,
   "metadata": {},
   "outputs": [],
   "source": [
    "from browsermobproxy import Server\n",
    "from selenium import webdriver\n",
    "from selenium.webdriver.chrome.options import Options\n",
    "chrome_options = Options()\n",
    "#chrome_options.add_argument(\"--disable-extensions\")\n",
    "#chrome_options.add_argument(\"--disable-gpu\")\n",
    "chrome_options.add_argument(\"--headless\")"
   ]
  },
  {
   "cell_type": "code",
   "execution_count": 5,
   "metadata": {},
   "outputs": [],
   "source": [
    "server = Server(\"path/to/browsermob-proxy\")\n",
    "server.start()\n",
    "proxy = server.create_proxy()\n",
    "\n",
    "\n",
    "#tag the har(network logs) with a name\n",
    "proxy.new_har(\"google\")"
   ]
  },
  {
   "cell_type": "code",
   "execution_count": 7,
   "metadata": {},
   "outputs": [],
   "source": [
    "driver = webdriver.Chrome(r'C:\\\\Stefan\\\\chromedriver.exe', options=chrome_options)\n",
    "start_url = \"\"\n",
    "driver.get(start_url)\n",
    "#frame = driver.find_element_by_class_name(\"vjs-iframe\")\n",
    "#frame = driver.find_element_by_t('//*[@id=\"frameNewcizgifilmuploads0\"]')\n",
    "frames = driver.find_elements_by_tag_name(\"iframe\")\n",
    "for frame in frames:\n",
    "  try:\n",
    "    driver.switch_to.frame(frame)\n",
    "    button = driver.find_element_by_xpath('//*[@id=\"video-js\"]/button')\n",
    "    api_url = driver.find_element_by_xpath('//*[@id=\"video-js_html5_api\"]').get_attribute(\"src\")\n",
    "  except:\n",
    "    print(frame)\n",
    "    pass\n",
    "\n",
    "driver.quit()"
   ]
  },
  {
   "cell_type": "code",
   "execution_count": 6,
   "metadata": {},
   "outputs": [],
   "source": [
    "driver = webdriver.Chrome(r'C:\\\\Stefan\\\\chromedriver.exe', options=chrome_options)\n",
    "start_url = \"\"\n",
    "driver.get(start_url)\n",
    "#frame = driver.find_element_by_class_name(\"vjs-iframe\")\n",
    "frame = driver.find_element_by_xpath('//*[@id=\"frameNewcizgifilmuploads0\"]')\n",
    "driver.switch_to.frame(frame)\n",
    "\n",
    "button = driver.find_element_by_xpath('//*[@id=\"video-js\"]/button')\n",
    "api_url = driver.find_element_by_xpath('//*[@id=\"video-js_html5_api\"]').get_attribute(\"src\")\n",
    "\n",
    "driver.quit()"
   ]
  },
  {
   "cell_type": "code",
   "execution_count": null,
   "metadata": {},
   "outputs": [],
   "source": []
  }
 ],
 "metadata": {
  "kernelspec": {
   "display_name": "Python 3",
   "language": "python",
   "name": "python3"
  },
  "language_info": {
   "codemirror_mode": {
    "name": "ipython",
    "version": 3
   },
   "file_extension": ".py",
   "mimetype": "text/x-python",
   "name": "python",
   "nbconvert_exporter": "python",
   "pygments_lexer": "ipython3",
   "version": "3.7.4"
  }
 },
 "nbformat": 4,
 "nbformat_minor": 2
}
